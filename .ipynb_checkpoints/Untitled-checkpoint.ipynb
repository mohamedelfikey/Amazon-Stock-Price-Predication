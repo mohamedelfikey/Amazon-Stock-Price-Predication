{
 "cells": [
  {
   "cell_type": "markdown",
   "id": "b10c4f96-1bc2-478d-9f32-d2f1e53e46ff",
   "metadata": {},
   "source": [
    "# Amazon Stock Price predications"
   ]
  },
  {
   "cell_type": "markdown",
   "id": "185937f1-8859-48b1-b669-0d8bd852e1c3",
   "metadata": {},
   "source": [
    "## Part One: Import Libraries & Read Data"
   ]
  },
  {
   "cell_type": "code",
   "execution_count": 56,
   "id": "fa3737b7-dbce-44f4-9265-9fa9f5fd5e0f",
   "metadata": {},
   "outputs": [],
   "source": [
    "import numpy as np\n",
    "import pandas as pd\n",
    "import matplotlib.pyplot as plt\n",
    "import seaborn as sns\n",
    "\n",
    "import yfinance as yf\n",
    "\n",
    "from tensorflow.keras.models import Sequential\n",
    "from tensorflow.keras.layers import LSTM,Dense,Dropout\n",
    "from tensorflow.keras.callbacks import EarlyStopping\n",
    "\n",
    "import warnings\n",
    "warnings.filterwarnings(\"ignore\")"
   ]
  },
  {
   "cell_type": "code",
   "execution_count": 5,
   "id": "2c402351-f5e8-4750-8f48-376dc8a0ae5a",
   "metadata": {},
   "outputs": [
    {
     "data": {
      "text/html": [
       "<div>\n",
       "<style scoped>\n",
       "    .dataframe tbody tr th:only-of-type {\n",
       "        vertical-align: middle;\n",
       "    }\n",
       "\n",
       "    .dataframe tbody tr th {\n",
       "        vertical-align: top;\n",
       "    }\n",
       "\n",
       "    .dataframe thead th {\n",
       "        text-align: right;\n",
       "    }\n",
       "</style>\n",
       "<table border=\"1\" class=\"dataframe\">\n",
       "  <thead>\n",
       "    <tr style=\"text-align: right;\">\n",
       "      <th></th>\n",
       "      <th>Open</th>\n",
       "      <th>High</th>\n",
       "      <th>Low</th>\n",
       "      <th>Close</th>\n",
       "      <th>Volume</th>\n",
       "      <th>Dividends</th>\n",
       "      <th>Stock Splits</th>\n",
       "    </tr>\n",
       "    <tr>\n",
       "      <th>Date</th>\n",
       "      <th></th>\n",
       "      <th></th>\n",
       "      <th></th>\n",
       "      <th></th>\n",
       "      <th></th>\n",
       "      <th></th>\n",
       "      <th></th>\n",
       "    </tr>\n",
       "  </thead>\n",
       "  <tbody>\n",
       "    <tr>\n",
       "      <th>2016-01-04 00:00:00-05:00</th>\n",
       "      <td>32.814499</td>\n",
       "      <td>32.886002</td>\n",
       "      <td>31.375500</td>\n",
       "      <td>31.849501</td>\n",
       "      <td>186290000</td>\n",
       "      <td>0.0</td>\n",
       "      <td>0.0</td>\n",
       "    </tr>\n",
       "    <tr>\n",
       "      <th>2016-01-05 00:00:00-05:00</th>\n",
       "      <td>32.342999</td>\n",
       "      <td>32.345501</td>\n",
       "      <td>31.382500</td>\n",
       "      <td>31.689501</td>\n",
       "      <td>116452000</td>\n",
       "      <td>0.0</td>\n",
       "      <td>0.0</td>\n",
       "    </tr>\n",
       "    <tr>\n",
       "      <th>2016-01-06 00:00:00-05:00</th>\n",
       "      <td>31.100000</td>\n",
       "      <td>31.989500</td>\n",
       "      <td>31.015499</td>\n",
       "      <td>31.632500</td>\n",
       "      <td>106584000</td>\n",
       "      <td>0.0</td>\n",
       "      <td>0.0</td>\n",
       "    </tr>\n",
       "    <tr>\n",
       "      <th>2016-01-07 00:00:00-05:00</th>\n",
       "      <td>31.090000</td>\n",
       "      <td>31.500000</td>\n",
       "      <td>30.260500</td>\n",
       "      <td>30.396999</td>\n",
       "      <td>141498000</td>\n",
       "      <td>0.0</td>\n",
       "      <td>0.0</td>\n",
       "    </tr>\n",
       "    <tr>\n",
       "      <th>2016-01-08 00:00:00-05:00</th>\n",
       "      <td>30.983000</td>\n",
       "      <td>31.207001</td>\n",
       "      <td>30.299999</td>\n",
       "      <td>30.352501</td>\n",
       "      <td>110258000</td>\n",
       "      <td>0.0</td>\n",
       "      <td>0.0</td>\n",
       "    </tr>\n",
       "    <tr>\n",
       "      <th>...</th>\n",
       "      <td>...</td>\n",
       "      <td>...</td>\n",
       "      <td>...</td>\n",
       "      <td>...</td>\n",
       "      <td>...</td>\n",
       "      <td>...</td>\n",
       "      <td>...</td>\n",
       "    </tr>\n",
       "    <tr>\n",
       "      <th>2024-01-23 00:00:00-05:00</th>\n",
       "      <td>154.850006</td>\n",
       "      <td>156.210007</td>\n",
       "      <td>153.929993</td>\n",
       "      <td>156.020004</td>\n",
       "      <td>37986000</td>\n",
       "      <td>0.0</td>\n",
       "      <td>0.0</td>\n",
       "    </tr>\n",
       "    <tr>\n",
       "      <th>2024-01-24 00:00:00-05:00</th>\n",
       "      <td>157.800003</td>\n",
       "      <td>158.509995</td>\n",
       "      <td>156.479996</td>\n",
       "      <td>156.869995</td>\n",
       "      <td>48547300</td>\n",
       "      <td>0.0</td>\n",
       "      <td>0.0</td>\n",
       "    </tr>\n",
       "    <tr>\n",
       "      <th>2024-01-25 00:00:00-05:00</th>\n",
       "      <td>156.949997</td>\n",
       "      <td>158.509995</td>\n",
       "      <td>154.550003</td>\n",
       "      <td>157.750000</td>\n",
       "      <td>43638600</td>\n",
       "      <td>0.0</td>\n",
       "      <td>0.0</td>\n",
       "    </tr>\n",
       "    <tr>\n",
       "      <th>2024-01-26 00:00:00-05:00</th>\n",
       "      <td>158.419998</td>\n",
       "      <td>160.720001</td>\n",
       "      <td>157.910004</td>\n",
       "      <td>159.119995</td>\n",
       "      <td>51047400</td>\n",
       "      <td>0.0</td>\n",
       "      <td>0.0</td>\n",
       "    </tr>\n",
       "    <tr>\n",
       "      <th>2024-01-29 00:00:00-05:00</th>\n",
       "      <td>159.339996</td>\n",
       "      <td>161.289993</td>\n",
       "      <td>158.899994</td>\n",
       "      <td>161.259995</td>\n",
       "      <td>45270400</td>\n",
       "      <td>0.0</td>\n",
       "      <td>0.0</td>\n",
       "    </tr>\n",
       "  </tbody>\n",
       "</table>\n",
       "<p>2031 rows × 7 columns</p>\n",
       "</div>"
      ],
      "text/plain": [
       "                                 Open        High         Low       Close  \\\n",
       "Date                                                                        \n",
       "2016-01-04 00:00:00-05:00   32.814499   32.886002   31.375500   31.849501   \n",
       "2016-01-05 00:00:00-05:00   32.342999   32.345501   31.382500   31.689501   \n",
       "2016-01-06 00:00:00-05:00   31.100000   31.989500   31.015499   31.632500   \n",
       "2016-01-07 00:00:00-05:00   31.090000   31.500000   30.260500   30.396999   \n",
       "2016-01-08 00:00:00-05:00   30.983000   31.207001   30.299999   30.352501   \n",
       "...                               ...         ...         ...         ...   \n",
       "2024-01-23 00:00:00-05:00  154.850006  156.210007  153.929993  156.020004   \n",
       "2024-01-24 00:00:00-05:00  157.800003  158.509995  156.479996  156.869995   \n",
       "2024-01-25 00:00:00-05:00  156.949997  158.509995  154.550003  157.750000   \n",
       "2024-01-26 00:00:00-05:00  158.419998  160.720001  157.910004  159.119995   \n",
       "2024-01-29 00:00:00-05:00  159.339996  161.289993  158.899994  161.259995   \n",
       "\n",
       "                              Volume  Dividends  Stock Splits  \n",
       "Date                                                           \n",
       "2016-01-04 00:00:00-05:00  186290000        0.0           0.0  \n",
       "2016-01-05 00:00:00-05:00  116452000        0.0           0.0  \n",
       "2016-01-06 00:00:00-05:00  106584000        0.0           0.0  \n",
       "2016-01-07 00:00:00-05:00  141498000        0.0           0.0  \n",
       "2016-01-08 00:00:00-05:00  110258000        0.0           0.0  \n",
       "...                              ...        ...           ...  \n",
       "2024-01-23 00:00:00-05:00   37986000        0.0           0.0  \n",
       "2024-01-24 00:00:00-05:00   48547300        0.0           0.0  \n",
       "2024-01-25 00:00:00-05:00   43638600        0.0           0.0  \n",
       "2024-01-26 00:00:00-05:00   51047400        0.0           0.0  \n",
       "2024-01-29 00:00:00-05:00   45270400        0.0           0.0  \n",
       "\n",
       "[2031 rows x 7 columns]"
      ]
     },
     "execution_count": 5,
     "metadata": {},
     "output_type": "execute_result"
    }
   ],
   "source": [
    "stock = yf.Ticker(\"AMZN\")\n",
    "df = stock.history(start=\"2016-1-1\", end=\"2024-1-30\")\n",
    "df"
   ]
  },
  {
   "cell_type": "code",
   "execution_count": 6,
   "id": "3838057c-7e97-4e35-a6f2-11b7cfe056ff",
   "metadata": {},
   "outputs": [
    {
     "data": {
      "text/plain": [
       "Index(['Open', 'High', 'Low', 'Close', 'Volume', 'Dividends', 'Stock Splits'], dtype='object')"
      ]
     },
     "execution_count": 6,
     "metadata": {},
     "output_type": "execute_result"
    }
   ],
   "source": [
    "df.columns"
   ]
  },
  {
   "cell_type": "code",
   "execution_count": 7,
   "id": "55849979-691a-4e47-8fba-f7680b81ab04",
   "metadata": {},
   "outputs": [
    {
     "data": {
      "text/plain": [
       "(2031, 7)"
      ]
     },
     "execution_count": 7,
     "metadata": {},
     "output_type": "execute_result"
    }
   ],
   "source": [
    "df.shape"
   ]
  },
  {
   "cell_type": "code",
   "execution_count": 8,
   "id": "b7ad7b84-88f9-40b2-872c-45bfb9b99e8a",
   "metadata": {},
   "outputs": [
    {
     "name": "stdout",
     "output_type": "stream",
     "text": [
      "<class 'pandas.core.frame.DataFrame'>\n",
      "DatetimeIndex: 2031 entries, 2016-01-04 00:00:00-05:00 to 2024-01-29 00:00:00-05:00\n",
      "Data columns (total 7 columns):\n",
      " #   Column        Non-Null Count  Dtype  \n",
      "---  ------        --------------  -----  \n",
      " 0   Open          2031 non-null   float64\n",
      " 1   High          2031 non-null   float64\n",
      " 2   Low           2031 non-null   float64\n",
      " 3   Close         2031 non-null   float64\n",
      " 4   Volume        2031 non-null   int64  \n",
      " 5   Dividends     2031 non-null   float64\n",
      " 6   Stock Splits  2031 non-null   float64\n",
      "dtypes: float64(6), int64(1)\n",
      "memory usage: 126.9 KB\n"
     ]
    }
   ],
   "source": [
    "df.info()"
   ]
  },
  {
   "cell_type": "code",
   "execution_count": 9,
   "id": "1ecced0c-e841-4902-be33-f30b85acdfa3",
   "metadata": {},
   "outputs": [
    {
     "data": {
      "text/plain": [
       "Open            0\n",
       "High            0\n",
       "Low             0\n",
       "Close           0\n",
       "Volume          0\n",
       "Dividends       0\n",
       "Stock Splits    0\n",
       "dtype: int64"
      ]
     },
     "execution_count": 9,
     "metadata": {},
     "output_type": "execute_result"
    }
   ],
   "source": [
    "df.isnull().sum() # no null values"
   ]
  },
  {
   "cell_type": "code",
   "execution_count": 10,
   "id": "a8bf02bc-06cc-4958-847e-7396ce08cb7e",
   "metadata": {},
   "outputs": [
    {
     "data": {
      "text/plain": [
       "0"
      ]
     },
     "execution_count": 10,
     "metadata": {},
     "output_type": "execute_result"
    }
   ],
   "source": [
    "df.duplicated().sum() # no duplicated data"
   ]
  },
  {
   "cell_type": "code",
   "execution_count": 11,
   "id": "16a3de54-81fa-4e6b-8626-faff057c727c",
   "metadata": {},
   "outputs": [],
   "source": [
    "df.drop(columns=[\"Dividends\", \"Stock Splits\"], inplace=True)"
   ]
  },
  {
   "cell_type": "code",
   "execution_count": 12,
   "id": "223e55aa-b853-4bb5-ac94-f37c497b43e6",
   "metadata": {},
   "outputs": [
    {
     "data": {
      "text/html": [
       "<div>\n",
       "<style scoped>\n",
       "    .dataframe tbody tr th:only-of-type {\n",
       "        vertical-align: middle;\n",
       "    }\n",
       "\n",
       "    .dataframe tbody tr th {\n",
       "        vertical-align: top;\n",
       "    }\n",
       "\n",
       "    .dataframe thead th {\n",
       "        text-align: right;\n",
       "    }\n",
       "</style>\n",
       "<table border=\"1\" class=\"dataframe\">\n",
       "  <thead>\n",
       "    <tr style=\"text-align: right;\">\n",
       "      <th></th>\n",
       "      <th>Open</th>\n",
       "      <th>High</th>\n",
       "      <th>Low</th>\n",
       "      <th>Close</th>\n",
       "      <th>Volume</th>\n",
       "    </tr>\n",
       "  </thead>\n",
       "  <tbody>\n",
       "    <tr>\n",
       "      <th>count</th>\n",
       "      <td>2031.000000</td>\n",
       "      <td>2031.000000</td>\n",
       "      <td>2031.000000</td>\n",
       "      <td>2031.000000</td>\n",
       "      <td>2.031000e+03</td>\n",
       "    </tr>\n",
       "    <tr>\n",
       "      <th>mean</th>\n",
       "      <td>100.996225</td>\n",
       "      <td>102.170634</td>\n",
       "      <td>99.716680</td>\n",
       "      <td>100.966617</td>\n",
       "      <td>8.024095e+07</td>\n",
       "    </tr>\n",
       "    <tr>\n",
       "      <th>std</th>\n",
       "      <td>44.922907</td>\n",
       "      <td>45.487050</td>\n",
       "      <td>44.315701</td>\n",
       "      <td>44.882547</td>\n",
       "      <td>3.931676e+07</td>\n",
       "    </tr>\n",
       "    <tr>\n",
       "      <th>min</th>\n",
       "      <td>23.900499</td>\n",
       "      <td>24.674999</td>\n",
       "      <td>23.700001</td>\n",
       "      <td>24.103500</td>\n",
       "      <td>1.762600e+07</td>\n",
       "    </tr>\n",
       "    <tr>\n",
       "      <th>25%</th>\n",
       "      <td>62.028749</td>\n",
       "      <td>62.685249</td>\n",
       "      <td>61.731501</td>\n",
       "      <td>62.489248</td>\n",
       "      <td>5.407900e+07</td>\n",
       "    </tr>\n",
       "    <tr>\n",
       "      <th>50%</th>\n",
       "      <td>94.905502</td>\n",
       "      <td>95.875504</td>\n",
       "      <td>93.772499</td>\n",
       "      <td>94.900002</td>\n",
       "      <td>6.860000e+07</td>\n",
       "    </tr>\n",
       "    <tr>\n",
       "      <th>75%</th>\n",
       "      <td>142.490005</td>\n",
       "      <td>144.368752</td>\n",
       "      <td>140.340004</td>\n",
       "      <td>142.770004</td>\n",
       "      <td>9.437400e+07</td>\n",
       "    </tr>\n",
       "    <tr>\n",
       "      <th>max</th>\n",
       "      <td>187.199997</td>\n",
       "      <td>188.654007</td>\n",
       "      <td>184.839493</td>\n",
       "      <td>186.570496</td>\n",
       "      <td>3.313000e+08</td>\n",
       "    </tr>\n",
       "  </tbody>\n",
       "</table>\n",
       "</div>"
      ],
      "text/plain": [
       "              Open         High          Low        Close        Volume\n",
       "count  2031.000000  2031.000000  2031.000000  2031.000000  2.031000e+03\n",
       "mean    100.996225   102.170634    99.716680   100.966617  8.024095e+07\n",
       "std      44.922907    45.487050    44.315701    44.882547  3.931676e+07\n",
       "min      23.900499    24.674999    23.700001    24.103500  1.762600e+07\n",
       "25%      62.028749    62.685249    61.731501    62.489248  5.407900e+07\n",
       "50%      94.905502    95.875504    93.772499    94.900002  6.860000e+07\n",
       "75%     142.490005   144.368752   140.340004   142.770004  9.437400e+07\n",
       "max     187.199997   188.654007   184.839493   186.570496  3.313000e+08"
      ]
     },
     "execution_count": 12,
     "metadata": {},
     "output_type": "execute_result"
    }
   ],
   "source": [
    "df.describe()"
   ]
  },
  {
   "cell_type": "markdown",
   "id": "60fcef6c-0eae-4c3e-ba4a-aaa6da68a198",
   "metadata": {},
   "source": [
    "## Part Two: EDA "
   ]
  },
  {
   "cell_type": "code",
   "execution_count": 14,
   "id": "0eafb01f-8c32-4564-8383-3852059d7728",
   "metadata": {},
   "outputs": [
    {
     "data": {
      "image/png": "[encoded data removed]",
      "text/plain": [
       "<Figure size 1000x500 with 1 Axes>"
      ]
     },
     "metadata": {},
     "output_type": "display_data"
    }
   ],
   "source": [
    "plt.figure(figsize=(10,5))\n",
    "sns.lineplot(data=df, x=\"Date\", y=\"Open\", label=\"Open\") \n",
    "sns.lineplot(data=df, x=\"Date\", y=\"Close\", label=\"Close\") \n",
    "plt.title (\"Amazon stock open, close values from 2016 to 2024\",weight=\"bold\")\n",
    "plt.legend()\n",
    "plt.show()"
   ]
  },
  {
   "cell_type": "code",
   "execution_count": 15,
   "id": "4a6847b4-0504-4780-9914-10670868518f",
   "metadata": {},
   "outputs": [
    {
     "data": {
      "text/html": [
       "<div>\n",
       "<style scoped>\n",
       "    .dataframe tbody tr th:only-of-type {\n",
       "        vertical-align: middle;\n",
       "    }\n",
       "\n",
       "    .dataframe tbody tr th {\n",
       "        vertical-align: top;\n",
       "    }\n",
       "\n",
       "    .dataframe thead th {\n",
       "        text-align: right;\n",
       "    }\n",
       "</style>\n",
       "<table border=\"1\" class=\"dataframe\">\n",
       "  <thead>\n",
       "    <tr style=\"text-align: right;\">\n",
       "      <th></th>\n",
       "      <th>Open</th>\n",
       "      <th>High</th>\n",
       "      <th>Low</th>\n",
       "      <th>Close</th>\n",
       "      <th>Volume</th>\n",
       "    </tr>\n",
       "  </thead>\n",
       "  <tbody>\n",
       "    <tr>\n",
       "      <th>Open</th>\n",
       "      <td>1.000000</td>\n",
       "      <td>0.999654</td>\n",
       "      <td>0.999581</td>\n",
       "      <td>0.999151</td>\n",
       "      <td>-0.120577</td>\n",
       "    </tr>\n",
       "    <tr>\n",
       "      <th>High</th>\n",
       "      <td>0.999654</td>\n",
       "      <td>1.000000</td>\n",
       "      <td>0.999494</td>\n",
       "      <td>0.999601</td>\n",
       "      <td>-0.113409</td>\n",
       "    </tr>\n",
       "    <tr>\n",
       "      <th>Low</th>\n",
       "      <td>0.999581</td>\n",
       "      <td>0.999494</td>\n",
       "      <td>1.000000</td>\n",
       "      <td>0.999621</td>\n",
       "      <td>-0.130713</td>\n",
       "    </tr>\n",
       "    <tr>\n",
       "      <th>Close</th>\n",
       "      <td>0.999151</td>\n",
       "      <td>0.999601</td>\n",
       "      <td>0.999621</td>\n",
       "      <td>1.000000</td>\n",
       "      <td>-0.122300</td>\n",
       "    </tr>\n",
       "    <tr>\n",
       "      <th>Volume</th>\n",
       "      <td>-0.120577</td>\n",
       "      <td>-0.113409</td>\n",
       "      <td>-0.130713</td>\n",
       "      <td>-0.122300</td>\n",
       "      <td>1.000000</td>\n",
       "    </tr>\n",
       "  </tbody>\n",
       "</table>\n",
       "</div>"
      ],
      "text/plain": [
       "            Open      High       Low     Close    Volume\n",
       "Open    1.000000  0.999654  0.999581  0.999151 -0.120577\n",
       "High    0.999654  1.000000  0.999494  0.999601 -0.113409\n",
       "Low     0.999581  0.999494  1.000000  0.999621 -0.130713\n",
       "Close   0.999151  0.999601  0.999621  1.000000 -0.122300\n",
       "Volume -0.120577 -0.113409 -0.130713 -0.122300  1.000000"
      ]
     },
     "execution_count": 15,
     "metadata": {},
     "output_type": "execute_result"
    }
   ],
   "source": [
    "df.corr()"
   ]
  },
  {
   "cell_type": "code",
   "execution_count": 16,
   "id": "cd8b1317-71e1-4e70-9dfd-b84e21edeba1",
   "metadata": {},
   "outputs": [
    {
     "data": {
      "text/plain": [
       "<Axes: >"
      ]
     },
     "execution_count": 16,
     "metadata": {},
     "output_type": "execute_result"
    },
    {
     "data": {
      "image/png": "[encoded data removed]",
      "text/plain": [
       "<Figure size 640x480 with 2 Axes>"
      ]
     },
     "metadata": {},
     "output_type": "display_data"
    }
   ],
   "source": [
    "sns.heatmap(df.corr(),annot=True)"
   ]
  },
  {
   "cell_type": "markdown",
   "id": "30bf4d55-ff78-4269-bafb-8297d2c7be27",
   "metadata": {},
   "source": [
    "## Part Three: Data Preprocessing"
   ]
  },
  {
   "cell_type": "code",
   "execution_count": 18,
   "id": "01c530bc-3ced-43f3-832f-7b2bd9bef5a6",
   "metadata": {},
   "outputs": [
    {
     "name": "stdout",
     "output_type": "stream",
     "text": [
      "(2031,)\n"
     ]
    }
   ],
   "source": [
    "# We used only Close column\n",
    "X = df[\"Close\"]\n",
    "print (X.shape)"
   ]
  },
  {
   "cell_type": "code",
   "execution_count": 19,
   "id": "cd0877ed-6d20-4ec2-88a4-baa857cfdb44",
   "metadata": {},
   "outputs": [
    {
     "name": "stdout",
     "output_type": "stream",
     "text": [
      "(1624, 1)\n",
      "(407, 1)\n"
     ]
    }
   ],
   "source": [
    "# split data to train, test\n",
    "portion = 0.8\n",
    "data_length = X.shape[0]\n",
    "train_data_size = int (data_length * portion)\n",
    "\n",
    "x_train = X[:train_data_size].values.reshape(-1,1)\n",
    "x_test = X[train_data_size:].values.reshape(-1,1)\n",
    "\n",
    "print (x_train.shape)\n",
    "print (x_test.shape)"
   ]
  },
  {
   "cell_type": "code",
   "execution_count": 20,
   "id": "a23e5433-7304-4ccf-bfbf-179fafc4cf97",
   "metadata": {},
   "outputs": [
    {
     "data": {
      "text/plain": [
       "array([[31.84950066],\n",
       "       [31.68950081],\n",
       "       [31.63249969],\n",
       "       [30.39699936],\n",
       "       [30.35250092],\n",
       "       [30.88699913],\n",
       "       [30.89450073],\n",
       "       [29.09049988],\n",
       "       [29.64999962],\n",
       "       [28.50900078]])"
      ]
     },
     "execution_count": 20,
     "metadata": {},
     "output_type": "execute_result"
    }
   ],
   "source": [
    "x_train[:10]"
   ]
  },
  {
   "cell_type": "code",
   "execution_count": 21,
   "id": "ec683aac-9ba9-41f9-b332-9a4f26b3b622",
   "metadata": {},
   "outputs": [
    {
     "name": "stdout",
     "output_type": "stream",
     "text": [
      "(1624, 1)\n",
      "(407, 1)\n"
     ]
    }
   ],
   "source": [
    "# Scalling data\n",
    "from sklearn.preprocessing import MinMaxScaler\n",
    "\n",
    "scaler = MinMaxScaler()\n",
    "scaled_x_train = scaler.fit_transform(x_train)\n",
    "scaled_x_test = scaler.transform(x_test)\n",
    "\n",
    "print (scaled_x_train.shape)\n",
    "print (scaled_x_test.shape)"
   ]
  },
  {
   "cell_type": "code",
   "execution_count": 22,
   "id": "472ba84a-f55d-474e-999f-62efee92ebb4",
   "metadata": {},
   "outputs": [],
   "source": [
    "# split data to x,y"
   ]
  },
  {
   "cell_type": "code",
   "execution_count": 23,
   "id": "c6276332-0855-4d6a-87d5-a3d9b74db90d",
   "metadata": {},
   "outputs": [],
   "source": [
    "def split2xy(scaled_x, length=100):\n",
    "    x = []\n",
    "    y = []\n",
    "    for i in range (length,scaled_x.shape[0]): \n",
    "        x.append(scaled_x_train[i-length:i,0])\n",
    "        y.append(scaled_x_train[i,0])\n",
    "    return x,y  \n",
    "    \n",
    "x_train, y_train = split2xy(scaled_x_train, 100)\n",
    "x_test, y_test = split2xy(scaled_x_test, 100)"
   ]
  },
  {
   "cell_type": "code",
   "execution_count": 24,
   "id": "5fd563bd-4cad-4ed0-8dea-26fdd04d91b1",
   "metadata": {},
   "outputs": [
    {
     "name": "stdout",
     "output_type": "stream",
     "text": [
      "(1524, 100)\n",
      "(1524,)\n",
      "(307, 100)\n",
      "(307,)\n"
     ]
    }
   ],
   "source": [
    "x_train, y_train = np.array(x_train), np.array(y_train)\n",
    "x_test, y_test = np.array(x_test), np.array(y_test)\n",
    "\n",
    "print (x_train.shape)\n",
    "print (y_train.shape)\n",
    "print (x_test.shape)\n",
    "print (y_test.shape)"
   ]
  },
  {
   "cell_type": "code",
   "execution_count": 27,
   "id": "80b4d6aa-0a2e-4a4d-8116-a6c99dc73d82",
   "metadata": {},
   "outputs": [],
   "source": [
    "x_train_lstm = np.reshape(x_train, (x_train.shape[0],x_train.shape[1],1))\n",
    "x_test_lstm = np.reshape(x_test, (x_test.shape[0],x_test.shape[1],1))\n",
    "print (x_train_lstm.shape)\n",
    "print (x_test_lstm.shape)"
   ]
  },
  {
   "cell_type": "code",
   "execution_count": 36,
   "id": "12bf9a93-c489-4471-a8e0-ed950342e96e",
   "metadata": {},
   "outputs": [
    {
     "data": {
      "text/plain": [
       "array([[0.04767738],\n",
       "       [0.04669256],\n",
       "       [0.04634172],\n",
       "       [0.03873709],\n",
       "       [0.0384632 ],\n",
       "       [0.04175309],\n",
       "       [0.04179926],\n",
       "       [0.03069546],\n",
       "       [0.03413924],\n",
       "       [0.02711628]])"
      ]
     },
     "execution_count": 36,
     "metadata": {},
     "output_type": "execute_result"
    }
   ],
   "source": [
    "x_train_lstm[0][:10]"
   ]
  },
  {
   "cell_type": "markdown",
   "id": "1d156fd1-295a-4bc7-b0af-b3f41e29a72c",
   "metadata": {},
   "source": [
    "## Part Four: Build Model"
   ]
  },
  {
   "cell_type": "code",
   "execution_count": 50,
   "id": "5f7b9d32-ceb3-4a54-b4b0-a6b91b91fe46",
   "metadata": {},
   "outputs": [
    {
     "name": "stdout",
     "output_type": "stream",
     "text": [
      "Model: \"sequential_3\"\n",
      "_________________________________________________________________\n",
      " Layer (type)                Output Shape              Param #   \n",
      "=================================================================\n",
      " lstm_4 (LSTM)               (None, 100, 128)          66560     \n",
      "                                                                 \n",
      " dropout_3 (Dropout)         (None, 100, 128)          0         \n",
      "                                                                 \n",
      " lstm_5 (LSTM)               (None, 100, 128)          131584    \n",
      "                                                                 \n",
      " dropout_4 (Dropout)         (None, 100, 128)          0         \n",
      "                                                                 \n",
      " lstm_6 (LSTM)               (None, 128)               131584    \n",
      "                                                                 \n",
      " dropout_5 (Dropout)         (None, 128)               0         \n",
      "                                                                 \n",
      " dense_1 (Dense)             (None, 1)                 129       \n",
      "                                                                 \n",
      "=================================================================\n",
      "Total params: 329,857\n",
      "Trainable params: 329,857\n",
      "Non-trainable params: 0\n",
      "_________________________________________________________________\n"
     ]
    }
   ],
   "source": [
    "lstm_out = 128\n",
    "\n",
    "model = Sequential()\n",
    "model.add(LSTM(units = lstm_out, return_sequences = True, input_shape=(x_train_lstm.shape[1],1)))\n",
    "model.add(Dropout(0.2))\n",
    "model.add(LSTM(units = lstm_out, return_sequences = True))\n",
    "model.add(Dropout(0.2))\n",
    "model.add(LSTM(units = lstm_out, return_sequences = False))\n",
    "model.add(Dropout(0.2))\n",
    "model.add(Dense(1))\n",
    "model.summary()"
   ]
  },
  {
   "cell_type": "code",
   "execution_count": 60,
   "id": "f3d4fec7-e5a8-4567-8388-88772623a442",
   "metadata": {},
   "outputs": [
    {
     "name": "stdout",
     "output_type": "stream",
     "text": [
      "Epoch 1/100\n",
      "48/48 [==============================] - 19s 247ms/step - loss: 0.0237 - val_loss: 3.5916e-04\n",
      "Epoch 2/100\n",
      "48/48 [==============================] - 10s 218ms/step - loss: 0.0031 - val_loss: 1.4226e-04\n",
      "Epoch 3/100\n",
      "48/48 [==============================] - 16s 312ms/step - loss: 0.0032 - val_loss: 1.1950e-04\n",
      "Epoch 4/100\n",
      "48/48 [==============================] - 11s 222ms/step - loss: 0.0027 - val_loss: 9.5703e-05\n",
      "Epoch 5/100\n",
      "48/48 [==============================] - 15s 323ms/step - loss: 0.0024 - val_loss: 6.2394e-05\n",
      "Epoch 6/100\n",
      "48/48 [==============================] - 11s 230ms/step - loss: 0.0023 - val_loss: 6.6383e-05\n",
      "Epoch 7/100\n",
      "48/48 [==============================] - 12s 240ms/step - loss: 0.0022 - val_loss: 5.0171e-05\n",
      "Epoch 8/100\n",
      "48/48 [==============================] - 11s 222ms/step - loss: 0.0034 - val_loss: 6.0820e-05\n",
      "Epoch 9/100\n",
      "48/48 [==============================] - 11s 222ms/step - loss: 0.0025 - val_loss: 7.3228e-05\n",
      "Epoch 10/100\n",
      "48/48 [==============================] - 13s 269ms/step - loss: 0.0025 - val_loss: 8.4633e-05\n",
      "Epoch 11/100\n",
      "48/48 [==============================] - 11s 234ms/step - loss: 0.0020 - val_loss: 1.0081e-04\n",
      "Epoch 12/100\n",
      "48/48 [==============================] - 11s 236ms/step - loss: 0.0020 - val_loss: 4.8381e-05\n",
      "Epoch 13/100\n",
      "48/48 [==============================] - 13s 276ms/step - loss: 0.0024 - val_loss: 6.4993e-05\n",
      "Epoch 14/100\n",
      "48/48 [==============================] - 11s 223ms/step - loss: 0.0023 - val_loss: 7.9066e-05\n",
      "Epoch 15/100\n",
      "48/48 [==============================] - 11s 221ms/step - loss: 0.0021 - val_loss: 3.0277e-04\n",
      "Epoch 16/100\n",
      "48/48 [==============================] - 11s 223ms/step - loss: 0.0022 - val_loss: 8.4484e-05\n",
      "Epoch 17/100\n",
      "48/48 [==============================] - 10s 213ms/step - loss: 0.0020 - val_loss: 2.2955e-04\n",
      "Epoch 18/100\n",
      "48/48 [==============================] - 10s 219ms/step - loss: 0.0021 - val_loss: 7.7505e-05\n",
      "Epoch 19/100\n",
      "48/48 [==============================] - 11s 221ms/step - loss: 0.0017 - val_loss: 4.1102e-05\n",
      "Epoch 20/100\n",
      "48/48 [==============================] - 10s 218ms/step - loss: 0.0017 - val_loss: 3.4320e-05\n",
      "Epoch 21/100\n",
      "48/48 [==============================] - 11s 223ms/step - loss: 0.0021 - val_loss: 1.3204e-04\n",
      "Epoch 22/100\n",
      "48/48 [==============================] - 11s 226ms/step - loss: 0.0018 - val_loss: 1.3530e-04\n",
      "Epoch 23/100\n",
      "48/48 [==============================] - 10s 214ms/step - loss: 0.0016 - val_loss: 7.3746e-05\n",
      "Epoch 24/100\n",
      "48/48 [==============================] - 11s 219ms/step - loss: 0.0018 - val_loss: 5.2389e-05\n",
      "Epoch 25/100\n",
      "48/48 [==============================] - 11s 223ms/step - loss: 0.0015 - val_loss: 3.5763e-05\n",
      "Epoch 26/100\n",
      "48/48 [==============================] - 10s 214ms/step - loss: 0.0016 - val_loss: 6.6929e-05\n",
      "Epoch 27/100\n",
      "48/48 [==============================] - 10s 218ms/step - loss: 0.0015 - val_loss: 4.6931e-05\n",
      "Epoch 28/100\n",
      "48/48 [==============================] - 11s 219ms/step - loss: 0.0015 - val_loss: 4.3355e-05\n",
      "Epoch 29/100\n",
      "48/48 [==============================] - 10s 214ms/step - loss: 0.0014 - val_loss: 3.7396e-05\n",
      "Epoch 30/100\n",
      "48/48 [==============================] - 12s 252ms/step - loss: 0.0015 - val_loss: 3.1002e-05\n",
      "Epoch 31/100\n",
      "48/48 [==============================] - 11s 233ms/step - loss: 0.0014 - val_loss: 1.3429e-04\n",
      "Epoch 32/100\n",
      "48/48 [==============================] - 11s 222ms/step - loss: 0.0015 - val_loss: 1.3515e-04\n",
      "Epoch 33/100\n",
      "48/48 [==============================] - 11s 234ms/step - loss: 0.0015 - val_loss: 3.9705e-05\n",
      "Epoch 34/100\n",
      "48/48 [==============================] - 12s 244ms/step - loss: 0.0013 - val_loss: 3.7337e-05\n",
      "Epoch 35/100\n",
      "48/48 [==============================] - 11s 236ms/step - loss: 0.0012 - val_loss: 3.2835e-05\n",
      "Epoch 36/100\n",
      "48/48 [==============================] - 12s 242ms/step - loss: 0.0013 - val_loss: 2.7711e-05\n",
      "Epoch 37/100\n",
      "48/48 [==============================] - 12s 249ms/step - loss: 0.0014 - val_loss: 1.1910e-04\n",
      "Epoch 38/100\n",
      "48/48 [==============================] - 12s 242ms/step - loss: 0.0014 - val_loss: 2.8059e-05\n",
      "Epoch 39/100\n",
      "48/48 [==============================] - 11s 219ms/step - loss: 0.0011 - val_loss: 6.7466e-05\n",
      "Epoch 40/100\n",
      "48/48 [==============================] - 12s 240ms/step - loss: 0.0012 - val_loss: 4.1217e-05\n",
      "Epoch 41/100\n",
      "48/48 [==============================] - 12s 240ms/step - loss: 0.0012 - val_loss: 4.8773e-05\n",
      "Epoch 42/100\n",
      "48/48 [==============================] - 11s 224ms/step - loss: 0.0013 - val_loss: 3.7079e-05\n",
      "Epoch 43/100\n",
      "48/48 [==============================] - 11s 224ms/step - loss: 0.0013 - val_loss: 2.9853e-05\n",
      "Epoch 44/100\n",
      "48/48 [==============================] - 12s 251ms/step - loss: 0.0012 - val_loss: 8.1464e-05\n",
      "Epoch 45/100\n",
      "48/48 [==============================] - 12s 240ms/step - loss: 0.0011 - val_loss: 3.0684e-05\n",
      "Epoch 46/100\n",
      "48/48 [==============================] - 11s 226ms/step - loss: 0.0011 - val_loss: 2.5423e-05\n",
      "Epoch 47/100\n",
      "48/48 [==============================] - 12s 246ms/step - loss: 0.0011 - val_loss: 4.8945e-05\n",
      "Epoch 48/100\n",
      "48/48 [==============================] - 11s 231ms/step - loss: 0.0011 - val_loss: 3.5025e-05\n",
      "Epoch 49/100\n",
      "48/48 [==============================] - 10s 208ms/step - loss: 0.0010 - val_loss: 2.8372e-05\n",
      "Epoch 50/100\n",
      "48/48 [==============================] - 11s 222ms/step - loss: 0.0011 - val_loss: 8.5273e-05\n",
      "Epoch 51/100\n",
      "48/48 [==============================] - 11s 224ms/step - loss: 0.0011 - val_loss: 2.4024e-05\n",
      "Epoch 52/100\n",
      "48/48 [==============================] - 10s 210ms/step - loss: 0.0011 - val_loss: 2.2643e-05\n",
      "Epoch 53/100\n",
      "48/48 [==============================] - 11s 227ms/step - loss: 0.0011 - val_loss: 6.4925e-05\n",
      "Epoch 54/100\n",
      "48/48 [==============================] - 11s 228ms/step - loss: 0.0012 - val_loss: 5.3693e-05\n",
      "Epoch 55/100\n",
      "48/48 [==============================] - 10s 216ms/step - loss: 0.0011 - val_loss: 2.1908e-05\n",
      "Epoch 56/100\n",
      "48/48 [==============================] - 11s 227ms/step - loss: 9.7613e-04 - val_loss: 9.0116e-05\n",
      "Epoch 57/100\n",
      "48/48 [==============================] - 11s 223ms/step - loss: 0.0011 - val_loss: 2.2719e-05\n",
      "Epoch 58/100\n",
      "48/48 [==============================] - 10s 206ms/step - loss: 0.0010 - val_loss: 1.4517e-04\n",
      "Epoch 59/100\n",
      "48/48 [==============================] - 11s 222ms/step - loss: 0.0012 - val_loss: 6.6841e-05\n",
      "Epoch 60/100\n",
      "48/48 [==============================] - 11s 224ms/step - loss: 0.0013 - val_loss: 3.8077e-05\n",
      "Epoch 61/100\n",
      "48/48 [==============================] - 10s 214ms/step - loss: 0.0010 - val_loss: 2.0375e-05\n",
      "Epoch 62/100\n",
      "48/48 [==============================] - 11s 222ms/step - loss: 0.0011 - val_loss: 2.7058e-05\n",
      "Epoch 63/100\n",
      "48/48 [==============================] - 11s 233ms/step - loss: 0.0012 - val_loss: 2.2187e-05\n",
      "Epoch 64/100\n",
      "48/48 [==============================] - 10s 208ms/step - loss: 8.8682e-04 - val_loss: 1.4536e-04\n",
      "Epoch 65/100\n",
      "48/48 [==============================] - 11s 226ms/step - loss: 0.0011 - val_loss: 3.0950e-05\n",
      "Epoch 66/100\n",
      "48/48 [==============================] - 10s 218ms/step - loss: 8.2758e-04 - val_loss: 2.2016e-05\n",
      "Epoch 67/100\n",
      "48/48 [==============================] - 10s 208ms/step - loss: 9.2822e-04 - val_loss: 2.6265e-05\n",
      "Epoch 68/100\n",
      "48/48 [==============================] - 11s 223ms/step - loss: 8.7550e-04 - val_loss: 8.2910e-05\n",
      "Epoch 69/100\n",
      "48/48 [==============================] - 11s 220ms/step - loss: 0.0011 - val_loss: 1.9901e-05\n",
      "Epoch 70/100\n",
      "48/48 [==============================] - 10s 211ms/step - loss: 9.6113e-04 - val_loss: 6.2557e-05\n",
      "Epoch 71/100\n",
      "48/48 [==============================] - 11s 227ms/step - loss: 8.1807e-04 - val_loss: 2.0452e-05\n",
      "Epoch 72/100\n",
      "48/48 [==============================] - 10s 216ms/step - loss: 9.4332e-04 - val_loss: 2.7013e-05\n",
      "Epoch 73/100\n",
      "48/48 [==============================] - 11s 224ms/step - loss: 8.6624e-04 - val_loss: 3.7847e-05\n",
      "Epoch 74/100\n",
      "48/48 [==============================] - 12s 255ms/step - loss: 8.0515e-04 - val_loss: 3.1578e-05\n",
      "Epoch 75/100\n",
      "48/48 [==============================] - 11s 233ms/step - loss: 8.5936e-04 - val_loss: 1.9575e-05\n",
      "Epoch 76/100\n",
      "48/48 [==============================] - 10s 212ms/step - loss: 8.5048e-04 - val_loss: 9.5891e-05\n",
      "Epoch 77/100\n",
      "48/48 [==============================] - 11s 228ms/step - loss: 8.7644e-04 - val_loss: 3.3913e-05\n",
      "Epoch 78/100\n",
      "48/48 [==============================] - 11s 229ms/step - loss: 9.2476e-04 - val_loss: 1.7472e-04\n",
      "Epoch 79/100\n",
      "48/48 [==============================] - 11s 221ms/step - loss: 8.1450e-04 - val_loss: 1.8661e-05\n",
      "Epoch 80/100\n",
      "48/48 [==============================] - 11s 234ms/step - loss: 8.3298e-04 - val_loss: 6.5181e-05\n",
      "Epoch 81/100\n",
      "48/48 [==============================] - 11s 238ms/step - loss: 8.8433e-04 - val_loss: 4.3610e-05\n",
      "Epoch 82/100\n",
      "48/48 [==============================] - 11s 225ms/step - loss: 9.1273e-04 - val_loss: 2.0447e-05\n",
      "Epoch 83/100\n",
      "48/48 [==============================] - 11s 234ms/step - loss: 8.4210e-04 - val_loss: 3.3048e-05\n",
      "Epoch 84/100\n",
      "48/48 [==============================] - 12s 245ms/step - loss: 9.4079e-04 - val_loss: 1.4671e-04\n",
      "Epoch 85/100\n",
      "48/48 [==============================] - 12s 246ms/step - loss: 8.4487e-04 - val_loss: 3.8898e-05\n",
      "Epoch 86/100\n",
      "48/48 [==============================] - 10s 218ms/step - loss: 8.2200e-04 - val_loss: 1.9760e-05\n",
      "Epoch 87/100\n",
      "48/48 [==============================] - 11s 229ms/step - loss: 9.1551e-04 - val_loss: 3.5812e-05\n",
      "Epoch 88/100\n",
      "48/48 [==============================] - 10s 219ms/step - loss: 7.9267e-04 - val_loss: 2.9190e-05\n",
      "Epoch 89/100\n",
      "48/48 [==============================] - 10s 216ms/step - loss: 7.4599e-04 - val_loss: 3.3805e-05\n",
      "Epoch 90/100\n",
      "48/48 [==============================] - 11s 228ms/step - loss: 9.1461e-04 - val_loss: 1.7385e-05\n",
      "Epoch 91/100\n",
      "48/48 [==============================] - 12s 250ms/step - loss: 8.8992e-04 - val_loss: 5.5886e-05\n",
      "Epoch 92/100\n",
      "48/48 [==============================] - 11s 226ms/step - loss: 9.3202e-04 - val_loss: 1.0671e-04\n",
      "Epoch 93/100\n",
      "48/48 [==============================] - 13s 262ms/step - loss: 8.0115e-04 - val_loss: 9.0232e-05\n",
      "Epoch 94/100\n",
      "48/48 [==============================] - 12s 247ms/step - loss: 7.9904e-04 - val_loss: 3.9983e-05\n",
      "Epoch 95/100\n",
      "48/48 [==============================] - 11s 229ms/step - loss: 7.0731e-04 - val_loss: 8.5204e-05\n",
      "Epoch 96/100\n",
      "48/48 [==============================] - 11s 237ms/step - loss: 8.6286e-04 - val_loss: 1.6515e-05\n",
      "Epoch 97/100\n",
      "48/48 [==============================] - 11s 235ms/step - loss: 7.3640e-04 - val_loss: 2.7159e-05\n",
      "Epoch 98/100\n",
      "48/48 [==============================] - 11s 231ms/step - loss: 7.1058e-04 - val_loss: 1.3676e-04\n",
      "Epoch 99/100\n",
      "48/48 [==============================] - 11s 228ms/step - loss: 7.7038e-04 - val_loss: 4.4542e-05\n",
      "Epoch 100/100\n",
      "48/48 [==============================] - 12s 252ms/step - loss: 7.2123e-04 - val_loss: 1.8324e-05\n"
     ]
    }
   ],
   "source": [
    "early_stopping = EarlyStopping(monitor=\"val_loss\",patience=5)\n",
    "model.compile(optimizer='adam', loss = [\"mean_squared_error\"])\n",
    "history = model.fit(x_train_lstm,y_train, validation_data=(x_test_lstm, y_test), epochs=100, batch_size=32)"
   ]
  },
  {
   "cell_type": "code",
   "execution_count": 61,
   "id": "41548d17-f509-44e2-a140-c5dac9893c6b",
   "metadata": {},
   "outputs": [
    {
     "data": {
      "image/png": "[encoded data removed]",
      "text/plain": [
       "<Figure size 640x480 with 1 Axes>"
      ]
     },
     "metadata": {},
     "output_type": "display_data"
    }
   ],
   "source": [
    "plt.plot(history.history['loss'])\n",
    "plt.plot(history.history['val_loss'])\n",
    "plt.xlabel('epochs')\n",
    "plt.ylabel('loss')\n",
    "plt.legend(['loss','val_loss'])\n",
    "plt.title(\"loss VS val_loss\",fontweight=\"bold\")\n",
    "plt.show()"
   ]
  },
  {
   "cell_type": "code",
   "execution_count": 95,
   "id": "c0e43217-ef03-4141-8f97-79214ed6de5d",
   "metadata": {},
   "outputs": [
    {
     "name": "stdout",
     "output_type": "stream",
     "text": [
      "10/10 [==============================] - 1s 66ms/step\n",
      "10/10 [==============================] - 1s 63ms/step\n"
     ]
    },
    {
     "data": {
      "text/html": [
       "<div>\n",
       "<style scoped>\n",
       "    .dataframe tbody tr th:only-of-type {\n",
       "        vertical-align: middle;\n",
       "    }\n",
       "\n",
       "    .dataframe tbody tr th {\n",
       "        vertical-align: top;\n",
       "    }\n",
       "\n",
       "    .dataframe thead th {\n",
       "        text-align: right;\n",
       "    }\n",
       "</style>\n",
       "<table border=\"1\" class=\"dataframe\">\n",
       "  <thead>\n",
       "    <tr style=\"text-align: right;\">\n",
       "      <th></th>\n",
       "      <th>test</th>\n",
       "      <th>pred</th>\n",
       "    </tr>\n",
       "  </thead>\n",
       "  <tbody>\n",
       "    <tr>\n",
       "      <th>0</th>\n",
       "      <td>0.071658</td>\n",
       "      <td>0.068106</td>\n",
       "    </tr>\n",
       "    <tr>\n",
       "      <th>1</th>\n",
       "      <td>0.070836</td>\n",
       "      <td>0.070089</td>\n",
       "    </tr>\n",
       "    <tr>\n",
       "      <th>2</th>\n",
       "      <td>0.074083</td>\n",
       "      <td>0.071578</td>\n",
       "    </tr>\n",
       "    <tr>\n",
       "      <th>3</th>\n",
       "      <td>0.073052</td>\n",
       "      <td>0.073256</td>\n",
       "    </tr>\n",
       "    <tr>\n",
       "      <th>4</th>\n",
       "      <td>0.075760</td>\n",
       "      <td>0.074362</td>\n",
       "    </tr>\n",
       "    <tr>\n",
       "      <th>...</th>\n",
       "      <td>...</td>\n",
       "      <td>...</td>\n",
       "    </tr>\n",
       "    <tr>\n",
       "      <th>302</th>\n",
       "      <td>0.156269</td>\n",
       "      <td>0.151185</td>\n",
       "    </tr>\n",
       "    <tr>\n",
       "      <th>303</th>\n",
       "      <td>0.153859</td>\n",
       "      <td>0.152336</td>\n",
       "    </tr>\n",
       "    <tr>\n",
       "      <th>304</th>\n",
       "      <td>0.146137</td>\n",
       "      <td>0.152393</td>\n",
       "    </tr>\n",
       "    <tr>\n",
       "      <th>305</th>\n",
       "      <td>0.149544</td>\n",
       "      <td>0.149361</td>\n",
       "    </tr>\n",
       "    <tr>\n",
       "      <th>306</th>\n",
       "      <td>0.154256</td>\n",
       "      <td>0.146790</td>\n",
       "    </tr>\n",
       "  </tbody>\n",
       "</table>\n",
       "<p>307 rows × 2 columns</p>\n",
       "</div>"
      ],
      "text/plain": [
       "         test      pred\n",
       "0    0.071658  0.068106\n",
       "1    0.070836  0.070089\n",
       "2    0.074083  0.071578\n",
       "3    0.073052  0.073256\n",
       "4    0.075760  0.074362\n",
       "..        ...       ...\n",
       "302  0.156269  0.151185\n",
       "303  0.153859  0.152336\n",
       "304  0.146137  0.152393\n",
       "305  0.149544  0.149361\n",
       "306  0.154256  0.146790\n",
       "\n",
       "[307 rows x 2 columns]"
      ]
     },
     "execution_count": 95,
     "metadata": {},
     "output_type": "execute_result"
    }
   ],
   "source": [
    "pred = model.predict(x_test_lstm)\n",
    "pred = model.predict(x_test_lstm)\n",
    "test = pd.DataFrame({'test': y_test.flatten(), 'pred': pred.flatten() })\n",
    "\n",
    "test"
   ]
  },
  {
   "cell_type": "code",
   "execution_count": 127,
   "id": "7dc6a8a0-551d-4338-9f37-e56b120ed973",
   "metadata": {},
   "outputs": [
    {
     "data": {
      "image/png": "[encoded data removed]",
      "text/plain": [
       "<Figure size 1000x500 with 1 Axes>"
      ]
     },
     "metadata": {},
     "output_type": "display_data"
    }
   ],
   "source": [
    "plt.figure(figsize=(10,5))\n",
    "\n",
    "r2 = np.round(r2_score(y_test, pred),2)\n",
    "mse = np.round(mean_squared_error(y_test, pred),2)\n",
    "mae = np.round(mean_absolute_error(y_test, pred),2)\n",
    "\n",
    "plt.plot(test)\n",
    "\n",
    "\n",
    "\n",
    "plt.text(x=80, y=max(y_test) - 0.001, s=f\"r2_score: {r2}\")\n",
    "plt.text(x=80, y=max(y_test) - 0.005, s=f\"Mean Squared Error: {mse}\")\n",
    "plt.text(x=80, y=max(y_test) - 0.01, s=f\"Mean Absolute Error: {mae}\")\n",
    "\n",
    "plt.title (\"Actual VS Predict for Amazon stock close values\", weight=\"bold\")\n",
    "plt.legend(['test','pred'])\n",
    "plt.show()"
   ]
  }
 ],
 "metadata": {
  "kernelspec": {
   "display_name": "Python [conda env:tensorflow_env]",
   "language": "python",
   "name": "conda-env-tensorflow_env-py"
  },
  "language_info": {
   "codemirror_mode": {
    "name": "ipython",
    "version": 3
   },
   "file_extension": ".py",
   "mimetype": "text/x-python",
   "name": "python",
   "nbconvert_exporter": "python",
   "pygments_lexer": "ipython3",
   "version": "3.9.15"
  }
 },
 "nbformat": 4,
 "nbformat_minor": 5
}
